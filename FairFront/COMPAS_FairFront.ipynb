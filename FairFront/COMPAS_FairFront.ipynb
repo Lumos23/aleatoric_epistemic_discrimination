{
 "cells": [
  {
   "cell_type": "code",
   "execution_count": 1,
   "id": "9ee42826",
   "metadata": {},
   "outputs": [],
   "source": [
    "from FairFront import FairFront\n",
    "from DataLoader_FairFront import load_data\n",
    "from DiscreteFairFront import *\n",
    "import numpy as np\n",
    "import cvxpy as cp\n",
    "import dccp\n",
    "\n",
    "import sys\n",
    "import pandas as pd\n",
    "import numpy as np\n",
    "\n",
    "import random\n",
    "import pickle\n",
    "import time\n",
    "from tqdm import tqdm\n",
    "from time import localtime, strftime"
   ]
  },
  {
   "cell_type": "code",
   "execution_count": 2,
   "id": "765e1cbc",
   "metadata": {},
   "outputs": [],
   "source": [
    "seed_n = 42\n",
    "random.seed(seed_n)\n",
    "np.random.seed(seed_n)"
   ]
  },
  {
   "cell_type": "code",
   "execution_count": 3,
   "id": "5e77f632",
   "metadata": {},
   "outputs": [
    {
     "name": "stderr",
     "output_type": "stream",
     "text": [
      "/Users/luxihe/Documents/GitHub/aleatoric_epistemic_discrimination/FairFront/DataLoader_FairFront.py:234: FutureWarning: In a future version, `df.iloc[:, i] = newvals` will attempt to set the values inplace instead of always setting a new array. To retain the old behavior, use either `df[df.columns[i]] = newvals` or, if columns are non-unique, `df.isetitem(i, newvals)`\n",
      "  df.loc[:,'race'] = df['race'].apply(lambda x: 1 if x=='Caucasian' else 0)\n",
      "/Users/luxihe/Documents/GitHub/aleatoric_epistemic_discrimination/FairFront/DataLoader_FairFront.py:238: FutureWarning: In a future version, `df.iloc[:, i] = newvals` will attempt to set the values inplace instead of always setting a new array. To retain the old behavior, use either `df[df.columns[i]] = newvals` or, if columns are non-unique, `df.isetitem(i, newvals)`\n",
      "  df.loc[:,'sex'] = df['sex'].apply(lambda x: 1 if x=='Male' else 0)\n",
      "/Users/luxihe/Documents/GitHub/aleatoric_epistemic_discrimination/FairFront/DataLoader_FairFront.py:245: FutureWarning: In a future version, `df.iloc[:, i] = newvals` will attempt to set the values inplace instead of always setting a new array. To retain the old behavior, use either `df[df.columns[i]] = newvals` or, if columns are non-unique, `df.isetitem(i, newvals)`\n",
      "  df.loc[:,'c_charge_degree'] = df['c_charge_degree'].apply(lambda x: 1 if x=='F' else -1)\n"
     ]
    },
    {
     "data": {
      "text/html": [
       "<div>\n",
       "<style scoped>\n",
       "    .dataframe tbody tr th:only-of-type {\n",
       "        vertical-align: middle;\n",
       "    }\n",
       "\n",
       "    .dataframe tbody tr th {\n",
       "        vertical-align: top;\n",
       "    }\n",
       "\n",
       "    .dataframe thead th {\n",
       "        text-align: right;\n",
       "    }\n",
       "</style>\n",
       "<table border=\"1\" class=\"dataframe\">\n",
       "  <thead>\n",
       "    <tr style=\"text-align: right;\">\n",
       "      <th></th>\n",
       "      <th>age</th>\n",
       "      <th>c_charge_degree</th>\n",
       "      <th>race</th>\n",
       "      <th>gender</th>\n",
       "      <th>priors_count</th>\n",
       "      <th>is_recid</th>\n",
       "      <th>length_of_stay</th>\n",
       "      <th>SY</th>\n",
       "      <th>stay_discrete</th>\n",
       "      <th>age_discrete</th>\n",
       "    </tr>\n",
       "  </thead>\n",
       "  <tbody>\n",
       "    <tr>\n",
       "      <th>0</th>\n",
       "      <td>34</td>\n",
       "      <td>1</td>\n",
       "      <td>0</td>\n",
       "      <td>1</td>\n",
       "      <td>0</td>\n",
       "      <td>1</td>\n",
       "      <td>10</td>\n",
       "      <td>1</td>\n",
       "      <td>1</td>\n",
       "      <td>3</td>\n",
       "    </tr>\n",
       "    <tr>\n",
       "      <th>1</th>\n",
       "      <td>24</td>\n",
       "      <td>1</td>\n",
       "      <td>0</td>\n",
       "      <td>1</td>\n",
       "      <td>4</td>\n",
       "      <td>1</td>\n",
       "      <td>1</td>\n",
       "      <td>1</td>\n",
       "      <td>1</td>\n",
       "      <td>1</td>\n",
       "    </tr>\n",
       "    <tr>\n",
       "      <th>2</th>\n",
       "      <td>41</td>\n",
       "      <td>1</td>\n",
       "      <td>1</td>\n",
       "      <td>1</td>\n",
       "      <td>14</td>\n",
       "      <td>1</td>\n",
       "      <td>6</td>\n",
       "      <td>3</td>\n",
       "      <td>1</td>\n",
       "      <td>5</td>\n",
       "    </tr>\n",
       "    <tr>\n",
       "      <th>3</th>\n",
       "      <td>39</td>\n",
       "      <td>-1</td>\n",
       "      <td>1</td>\n",
       "      <td>0</td>\n",
       "      <td>0</td>\n",
       "      <td>0</td>\n",
       "      <td>2</td>\n",
       "      <td>2</td>\n",
       "      <td>1</td>\n",
       "      <td>4</td>\n",
       "    </tr>\n",
       "    <tr>\n",
       "      <th>4</th>\n",
       "      <td>27</td>\n",
       "      <td>1</td>\n",
       "      <td>1</td>\n",
       "      <td>1</td>\n",
       "      <td>0</td>\n",
       "      <td>0</td>\n",
       "      <td>1</td>\n",
       "      <td>2</td>\n",
       "      <td>1</td>\n",
       "      <td>2</td>\n",
       "    </tr>\n",
       "    <tr>\n",
       "      <th>...</th>\n",
       "      <td>...</td>\n",
       "      <td>...</td>\n",
       "      <td>...</td>\n",
       "      <td>...</td>\n",
       "      <td>...</td>\n",
       "      <td>...</td>\n",
       "      <td>...</td>\n",
       "      <td>...</td>\n",
       "      <td>...</td>\n",
       "      <td>...</td>\n",
       "    </tr>\n",
       "    <tr>\n",
       "      <th>5273</th>\n",
       "      <td>30</td>\n",
       "      <td>-1</td>\n",
       "      <td>0</td>\n",
       "      <td>1</td>\n",
       "      <td>0</td>\n",
       "      <td>1</td>\n",
       "      <td>0</td>\n",
       "      <td>1</td>\n",
       "      <td>0</td>\n",
       "      <td>3</td>\n",
       "    </tr>\n",
       "    <tr>\n",
       "      <th>5274</th>\n",
       "      <td>20</td>\n",
       "      <td>1</td>\n",
       "      <td>0</td>\n",
       "      <td>1</td>\n",
       "      <td>0</td>\n",
       "      <td>0</td>\n",
       "      <td>0</td>\n",
       "      <td>0</td>\n",
       "      <td>0</td>\n",
       "      <td>1</td>\n",
       "    </tr>\n",
       "    <tr>\n",
       "      <th>5275</th>\n",
       "      <td>23</td>\n",
       "      <td>1</td>\n",
       "      <td>0</td>\n",
       "      <td>1</td>\n",
       "      <td>0</td>\n",
       "      <td>0</td>\n",
       "      <td>1</td>\n",
       "      <td>0</td>\n",
       "      <td>1</td>\n",
       "      <td>1</td>\n",
       "    </tr>\n",
       "    <tr>\n",
       "      <th>5276</th>\n",
       "      <td>23</td>\n",
       "      <td>1</td>\n",
       "      <td>0</td>\n",
       "      <td>1</td>\n",
       "      <td>0</td>\n",
       "      <td>0</td>\n",
       "      <td>1</td>\n",
       "      <td>0</td>\n",
       "      <td>1</td>\n",
       "      <td>1</td>\n",
       "    </tr>\n",
       "    <tr>\n",
       "      <th>5277</th>\n",
       "      <td>33</td>\n",
       "      <td>-1</td>\n",
       "      <td>0</td>\n",
       "      <td>0</td>\n",
       "      <td>3</td>\n",
       "      <td>0</td>\n",
       "      <td>1</td>\n",
       "      <td>0</td>\n",
       "      <td>1</td>\n",
       "      <td>3</td>\n",
       "    </tr>\n",
       "  </tbody>\n",
       "</table>\n",
       "<p>5278 rows × 10 columns</p>\n",
       "</div>"
      ],
      "text/plain": [
       "      age  c_charge_degree  race  gender  priors_count  is_recid  \\\n",
       "0      34                1     0       1             0         1   \n",
       "1      24                1     0       1             4         1   \n",
       "2      41                1     1       1            14         1   \n",
       "3      39               -1     1       0             0         0   \n",
       "4      27                1     1       1             0         0   \n",
       "...   ...              ...   ...     ...           ...       ...   \n",
       "5273   30               -1     0       1             0         1   \n",
       "5274   20                1     0       1             0         0   \n",
       "5275   23                1     0       1             0         0   \n",
       "5276   23                1     0       1             0         0   \n",
       "5277   33               -1     0       0             3         0   \n",
       "\n",
       "      length_of_stay  SY  stay_discrete  age_discrete  \n",
       "0                 10   1              1             3  \n",
       "1                  1   1              1             1  \n",
       "2                  6   3              1             5  \n",
       "3                  2   2              1             4  \n",
       "4                  1   2              1             2  \n",
       "...              ...  ..            ...           ...  \n",
       "5273               0   1              0             3  \n",
       "5274               0   0              0             1  \n",
       "5275               1   0              1             1  \n",
       "5276               1   0              1             1  \n",
       "5277               1   0              1             3  \n",
       "\n",
       "[5278 rows x 10 columns]"
      ]
     },
     "execution_count": 3,
     "metadata": {},
     "output_type": "execute_result"
    }
   ],
   "source": [
    "# read in data using the DataLoader module\n",
    "df = load_data(name='compas', perturbed= False)  \n",
    "df"
   ]
  },
  {
   "cell_type": "code",
   "execution_count": 20,
   "id": "141f78d6",
   "metadata": {},
   "outputs": [],
   "source": [
    "# read in perturbed data using pickled dataset \n",
    "# df = pd.read_pickle(\"../data/COMPAS/COMPAS_perturbed_maj0.1_min0.1.pkl\")\n",
    "# df"
   ]
  },
  {
   "cell_type": "markdown",
   "id": "26c0d24e",
   "metadata": {},
   "source": [
    "### Approximate with discrete r.v."
   ]
  },
  {
   "cell_type": "code",
   "execution_count": 4,
   "id": "abaade5e",
   "metadata": {},
   "outputs": [],
   "source": [
    "used_columns = df[['age_discrete', 'c_charge_degree', 'gender', 'priors_count',\n",
    "       'stay_discrete', 'race', 'SY'] ]\n",
    "      \n",
    "pmf_dict = {0:{}, 1:{}, 2:{}, 3:{}}\n",
    "\n",
    "def get_type_count(row):\n",
    "    sy = row['SY']\n",
    "    key = (row['age_discrete'],row['c_charge_degree'],row['gender'],row['priors_count'], row['stay_discrete'], row['race'])\n",
    "    if key not in pmf_dict[sy]:\n",
    "        pmf_dict[sy].update({key: 1})\n",
    "    else:\n",
    "        pmf_dict[sy][key] =  pmf_dict[sy][key] + 1\n",
    "    \n",
    "\n",
    "for index, row in used_columns.iterrows():\n",
    "    get_type_count(row)\n",
    "\n",
    "for i in range(4):\n",
    "    total_i = sum(pmf_dict[i].values())\n",
    "    pmf_dict[i] = {key: value / total_i for key, value in pmf_dict[i].items()}\n"
   ]
  },
  {
   "cell_type": "code",
   "execution_count": 5,
   "id": "b98c909a",
   "metadata": {},
   "outputs": [
    {
     "data": {
      "text/plain": [
       "1640"
      ]
     },
     "execution_count": 5,
     "metadata": {},
     "output_type": "execute_result"
    }
   ],
   "source": [
    "# output support as a list \n",
    "support_list = []\n",
    "for i in range(4):\n",
    "    support_list += list(pmf_dict[i].keys())\n",
    "\n",
    "support_X = list(set(support_list)) # support of input features\n",
    "calX = len(support_X) # support size of input features\n",
    "calX\n"
   ]
  },
  {
   "cell_type": "code",
   "execution_count": 6,
   "id": "ffae9cfb",
   "metadata": {},
   "outputs": [
    {
     "data": {
      "text/plain": [
       "(4, 1640)"
      ]
     },
     "execution_count": 6,
     "metadata": {},
     "output_type": "execute_result"
    }
   ],
   "source": [
    "def get_pmf(dictionary, x):\n",
    "    '''\n",
    "    if x is in dictionary pmf_dict[i], then use that value. If not, fill in 0\n",
    "    '''\n",
    "    if x in dictionary:\n",
    "        return dictionary[x]\n",
    "    else:\n",
    "        return 0 \n",
    "\n",
    "# transition matrix from (s,y) to x\n",
    "T_SY_X  = np.vstack([[get_pmf(pmf_dict[0], x) for x in support_X], \\\n",
    "           [get_pmf(pmf_dict[1], x) for x in support_X], \\\n",
    "           [get_pmf(pmf_dict[2], x) for x in support_X], \\\n",
    "           [get_pmf(pmf_dict[3], x) for x in support_X]\n",
    "            ])\n",
    "\n",
    "T_SY_X.shape\n"
   ]
  },
  {
   "cell_type": "markdown",
   "id": "2fc27c95",
   "metadata": {},
   "source": [
    "#### Obtain transition matrix and conditional distribution"
   ]
  },
  {
   "cell_type": "code",
   "execution_count": 7,
   "id": "f5cde78b",
   "metadata": {},
   "outputs": [],
   "source": [
    "A = 2\n",
    "C = 2\n",
    "sensitive_s = 'race'\n",
    "label_y = 'is_recid'\n",
    "# get the mu_s,y values, encoded in matrix mu_SY\n",
    "mu_SY = np.zeros((A, C))\n",
    "mu_SY = np.zeros((2, 2))\n",
    "for index, row in df.iterrows():\n",
    "    s,y = int(row[sensitive_s]), int(row[label_y])\n",
    "    mu_SY[s][y] = mu_SY[s][y] + 1\n",
    "mu_SY = mu_SY/len(df)\n",
    "\n",
    "map_ind_X = dict(zip(range(calX), support_X))\n",
    "map_X_ind = dict(zip(support_X, range(calX)))"
   ]
  },
  {
   "cell_type": "code",
   "execution_count": 8,
   "id": "6d735757",
   "metadata": {},
   "outputs": [],
   "source": [
    "def g_emp(x):\n",
    "    '''\n",
    "    compute g function from the empirical distribution\n",
    "    '''\n",
    "    result_vector = []\n",
    "    ind_x = map_X_ind[x]\n",
    "    for s in range(A):\n",
    "        for y in range(C):\n",
    "            result_vector.append(T_SY_X[s*C + y, ind_x] * mu_SY[s][y])\n",
    "    #normalize\n",
    "    result_vector = result_vector/(sum(result_vector))\n",
    "    return result_vector"
   ]
  },
  {
   "cell_type": "code",
   "execution_count": 9,
   "id": "291b03df",
   "metadata": {},
   "outputs": [],
   "source": [
    "distinf = {\"T\": T_SY_X, \"map\": map_ind_X, \"mu_SY\": mu_SY}"
   ]
  },
  {
   "cell_type": "markdown",
   "id": "de4647da",
   "metadata": {},
   "source": [
    "#### Generate FairFront"
   ]
  },
  {
   "cell_type": "code",
   "execution_count": 13,
   "id": "a9c5ad4a",
   "metadata": {},
   "outputs": [
    {
     "name": "stdout",
     "output_type": "stream",
     "text": [
      "current i: 0.0\n",
      "current iteration: 0\n",
      "Time for this iteration: 1.867 mins\n",
      "\n",
      "true_opt_list: [0.7619731135141423]\n",
      "current i: 0.011111111111111112\n",
      "current iteration: 0\n",
      "Time for this iteration: 1.850 mins\n",
      "\n",
      "true_opt_list: [0.7619731135141423, 0.768445932667334]\n",
      "current i: 0.022222222222222223\n",
      "current iteration: 0\n",
      "Time for this iteration: 1.833 mins\n",
      "\n",
      "true_opt_list: [0.7619731135141423, 0.768445932667334, 0.7695894794508601]\n",
      "current i: 0.03333333333333333\n",
      "current iteration: 0\n",
      "Time for this iteration: 1.900 mins\n",
      "\n",
      "true_opt_list: [0.7619731135141423, 0.768445932667334, 0.7695894794508601, 0.7700446199650359]\n",
      "current i: 0.044444444444444446\n",
      "current iteration: 0\n",
      "Time for this iteration: 1.967 mins\n",
      "\n",
      "true_opt_list: [0.7619731135141423, 0.768445932667334, 0.7695894794508601, 0.7700446199650359, 0.7704106332293201]\n",
      "current i: 0.05555555555555556\n",
      "current iteration: 0\n",
      "Time for this iteration: 1.983 mins\n",
      "\n",
      "true_opt_list: [0.7619731135141423, 0.768445932667334, 0.7695894794508601, 0.7700446199650359, 0.7704106332293201, 0.7707584731120786]\n",
      "current i: 0.06666666666666667\n",
      "current iteration: 0\n",
      "Time for this iteration: 2.000 mins\n",
      "\n",
      "true_opt_list: [0.7619731135141423, 0.768445932667334, 0.7695894794508601, 0.7700446199650359, 0.7704106332293201, 0.7707584731120786, 0.7710930044807173]\n",
      "current i: 0.07777777777777778\n",
      "current iteration: 0\n",
      "Time for this iteration: 2.050 mins\n",
      "\n",
      "true_opt_list: [0.7619731135141423, 0.768445932667334, 0.7695894794508601, 0.7700446199650359, 0.7704106332293201, 0.7707584731120786, 0.7710930044807173, 0.7713712139679151]\n",
      "current i: 0.08888888888888889\n",
      "current iteration: 0\n",
      "Time for this iteration: 2.050 mins\n",
      "\n",
      "true_opt_list: [0.7619731135141423, 0.768445932667334, 0.7695894794508601, 0.7700446199650359, 0.7704106332293201, 0.7707584731120786, 0.7710930044807173, 0.7713712139679151, 0.771504357891399]\n",
      "current i: 0.1\n",
      "current iteration: 0\n",
      "Time for this iteration: 2.017 mins\n",
      "\n",
      "true_opt_list: [0.7619731135141423, 0.768445932667334, 0.7695894794508601, 0.7700446199650359, 0.7704106332293201, 0.7707584731120786, 0.7710930044807173, 0.7713712139679151, 0.771504357891399, 0.7715043580005451]\n"
     ]
    }
   ],
   "source": [
    "# fairness threshold\n",
    "alpha_SP = 1.0\n",
    "alpha_OAE = 1.0\n",
    "\n",
    "epsilon = []\n",
    "opt_list = []\n",
    "opt_discrete_list = []\n",
    "\n",
    "for i in np.linspace(0,0.1,10):\n",
    "    print(\"current i:\", i)\n",
    "    epsilon.append(i)\n",
    "    start_time = time.localtime()\n",
    "    FairFront_value = FairFront(A, C, g_emp, sensitive_s = sensitive_s, label_y=label_y, InputDist = True, dist_inf = distinf, alpha_SP = alpha_SP, alpha_EO = i , alpha_OAE = alpha_OAE, max_iterations = 20)\n",
    "\n",
    "    optimal_value,_,_ = FairFront_value.Algorithm()\n",
    "    opt_list.append(optimal_value)\n",
    "\n",
    "    # FairFront_discrete = DiscreteFairFront(A, C, mu_SY, distinf, alpha_SP = alpha_SP, alpha_EO = i, alpha_OAE = alpha_OAE)\n",
    "    # value = FairFront_discrete.FairFront()\n",
    "    # opt_discrete_list.append(value)\n",
    "    \n",
    "\n",
    "    print('Time for this iteration: {:4.3f} mins\\n'.format((time.mktime(time.localtime()) - time.mktime(start_time))/60))\n",
    "    print(\"true_opt_list:\", opt_list)\n",
    "\n",
    "        "
   ]
  },
  {
   "cell_type": "code",
   "execution_count": 18,
   "id": "63a74b8f",
   "metadata": {},
   "outputs": [
    {
     "name": "stdout",
     "output_type": "stream",
     "text": [
      "current i: 0.111\n",
      "current iteration: 0\n",
      "Time for this iteration: 1.850 mins\n",
      "\n",
      "true_opt_list: [0.7619731135141423, 0.768445932667334, 0.7695894794508601, 0.7700446199650359, 0.7704106332293201, 0.7707584731120786, 0.7710930044807173, 0.7713712139679151, 0.771504357891399, 0.7715043580005451, 0.7715043577268292]\n",
      "current i: 0.1348\n",
      "current iteration: 0\n",
      "Time for this iteration: 1.917 mins\n",
      "\n",
      "true_opt_list: [0.7619731135141423, 0.768445932667334, 0.7695894794508601, 0.7700446199650359, 0.7704106332293201, 0.7707584731120786, 0.7710930044807173, 0.7713712139679151, 0.771504357891399, 0.7715043580005451, 0.7715043577268292, 0.7715043577377221]\n",
      "current i: 0.15860000000000002\n",
      "current iteration: 0\n",
      "Time for this iteration: 1.900 mins\n",
      "\n",
      "true_opt_list: [0.7619731135141423, 0.768445932667334, 0.7695894794508601, 0.7700446199650359, 0.7704106332293201, 0.7707584731120786, 0.7710930044807173, 0.7713712139679151, 0.771504357891399, 0.7715043580005451, 0.7715043577268292, 0.7715043577377221, 0.7715043577379517]\n",
      "current i: 0.1824\n",
      "current iteration: 0\n",
      "Time for this iteration: 1.917 mins\n",
      "\n",
      "true_opt_list: [0.7619731135141423, 0.768445932667334, 0.7695894794508601, 0.7700446199650359, 0.7704106332293201, 0.7707584731120786, 0.7710930044807173, 0.7713712139679151, 0.771504357891399, 0.7715043580005451, 0.7715043577268292, 0.7715043577377221, 0.7715043577379517, 0.7715043590454401]\n",
      "current i: 0.2062\n",
      "current iteration: 0\n",
      "Time for this iteration: 2.000 mins\n",
      "\n",
      "true_opt_list: [0.7619731135141423, 0.768445932667334, 0.7695894794508601, 0.7700446199650359, 0.7704106332293201, 0.7707584731120786, 0.7710930044807173, 0.7713712139679151, 0.771504357891399, 0.7715043580005451, 0.7715043577268292, 0.7715043577377221, 0.7715043577379517, 0.7715043590454401, 0.771504359290871]\n",
      "current i: 0.23\n",
      "current iteration: 0\n",
      "Time for this iteration: 1.983 mins\n",
      "\n",
      "true_opt_list: [0.7619731135141423, 0.768445932667334, 0.7695894794508601, 0.7700446199650359, 0.7704106332293201, 0.7707584731120786, 0.7710930044807173, 0.7713712139679151, 0.771504357891399, 0.7715043580005451, 0.7715043577268292, 0.7715043577377221, 0.7715043577379517, 0.7715043590454401, 0.771504359290871, 0.771504358006493]\n"
     ]
    }
   ],
   "source": [
    "# fairness threshold\n",
    "alpha_SP = 1.0\n",
    "alpha_OAE = 1.0\n",
    "\n",
    "for i in np.linspace(0.111,0.23,6):\n",
    "    print(\"current i:\", i)\n",
    "    epsilon.append(i)\n",
    "    start_time = time.localtime()\n",
    "    FairFront_value = FairFront(A, C, g_emp, sensitive_s = sensitive_s, label_y=label_y, InputDist = True, dist_inf = distinf, alpha_SP = alpha_SP, alpha_EO = i , alpha_OAE = alpha_OAE, max_iterations = 20)\n",
    "\n",
    "    optimal_value,_,_ = FairFront_value.Algorithm()\n",
    "    opt_list.append(optimal_value)\n",
    "\n",
    "    # FairFront_discrete = DiscreteFairFront(A, C, mu_SY, distinf, alpha_SP = alpha_SP, alpha_EO = i, alpha_OAE = alpha_OAE)\n",
    "    # value = FairFront_discrete.FairFront()\n",
    "    # opt_discrete_list.append(value)\n",
    "    \n",
    "    print('Time for this iteration: {:4.3f} mins\\n'.format((time.mktime(time.localtime()) - time.mktime(start_time))/60))\n",
    "    print(\"true_opt_list:\", opt_list)\n",
    "\n",
    "        "
   ]
  },
  {
   "cell_type": "code",
   "execution_count": 20,
   "id": "bcc56e64",
   "metadata": {},
   "outputs": [
    {
     "name": "stdout",
     "output_type": "stream",
     "text": [
      "current i: 0.003703703703703704\n",
      "current iteration: 0\n",
      "Time for this iteration: 2.067 mins\n",
      "\n",
      "true_opt_list: [0.7619731135141423, 0.768445932667334, 0.7695894794508601, 0.7700446199650359, 0.7704106332293201, 0.7707584731120786, 0.7710930044807173, 0.7713712139679151, 0.771504357891399, 0.7715043580005451, 0.7715043577268292, 0.7715043577377221, 0.7715043577379517, 0.7715043590454401, 0.771504359290871, 0.771504358006493, 0.7642010888457242]\n",
      "current i: 0.007407407407407408\n",
      "current iteration: 0\n",
      "Time for this iteration: 2.250 mins\n",
      "\n",
      "true_opt_list: [0.7619731135141423, 0.768445932667334, 0.7695894794508601, 0.7700446199650359, 0.7704106332293201, 0.7707584731120786, 0.7710930044807173, 0.7713712139679151, 0.771504357891399, 0.7715043580005451, 0.7715043577268292, 0.7715043577377221, 0.7715043577379517, 0.7715043590454401, 0.771504359290871, 0.771504358006493, 0.7642010888457242, 0.766429066188723]\n",
      "current i: 0.016666666666666666\n",
      "current iteration: 0\n",
      "Time for this iteration: 2.233 mins\n",
      "\n",
      "true_opt_list: [0.7619731135141423, 0.768445932667334, 0.7695894794508601, 0.7700446199650359, 0.7704106332293201, 0.7707584731120786, 0.7710930044807173, 0.7713712139679151, 0.771504357891399, 0.7715043580005451, 0.7715043577268292, 0.7715043577377221, 0.7715043577379517, 0.7715043590454401, 0.771504359290871, 0.771504358006493, 0.7642010888457242, 0.766429066188723, 0.7693023662600732]\n"
     ]
    }
   ],
   "source": [
    "for i in [0.003703703703703704, 0.003703703703703704*2, 0.016666666666666666]:\n",
    "    print(\"current i:\", i)\n",
    "    epsilon.append(i)\n",
    "    start_time = time.localtime()\n",
    "    FairFront_value = FairFront(A, C, g_emp, sensitive_s = sensitive_s, label_y=label_y, InputDist = True, dist_inf = distinf, alpha_SP = alpha_SP, alpha_EO = i , alpha_OAE = alpha_OAE, max_iterations = 20)\n",
    "\n",
    "    optimal_value,_,_ = FairFront_value.Algorithm()\n",
    "    opt_list.append(optimal_value)\n",
    "\n",
    "    # FairFront_discrete = DiscreteFairFront(A, C, mu_SY, distinf, alpha_SP = alpha_SP, alpha_EO = i, alpha_OAE = alpha_OAE)\n",
    "    # value = FairFront_discrete.FairFront()\n",
    "    # opt_discrete_list.append(value)\n",
    "    \n",
    "    print('Time for this iteration: {:4.3f} mins\\n'.format((time.mktime(time.localtime()) - time.mktime(start_time))/60))\n",
    "    print(\"true_opt_list:\", opt_list)\n",
    "\n",
    "        "
   ]
  },
  {
   "cell_type": "code",
   "execution_count": 23,
   "id": "932303f9",
   "metadata": {},
   "outputs": [
    {
     "data": {
      "text/plain": [
       "[<matplotlib.lines.Line2D at 0x2a4359fc0>]"
      ]
     },
     "execution_count": 23,
     "metadata": {},
     "output_type": "execute_result"
    },
    {
     "data": {
      "image/png": "[encoded data removed]",
      "text/plain": [
       "<Figure size 640x480 with 1 Axes>"
      ]
     },
     "metadata": {},
     "output_type": "display_data"
    }
   ],
   "source": [
    "import sys\n",
    "import pandas as pd\n",
    "import numpy as np\n",
    "import seaborn as sns\n",
    "import matplotlib.pyplot as plt\n",
    "import matplotlib.patches as mpatches\n",
    "import pickle\n",
    "sns.set(style=\"whitegrid\")\n",
    "\n",
    "plt.plot(epsilon, opt_list, 'o')"
   ]
  }
 ],
 "metadata": {
  "kernelspec": {
   "display_name": "Python 3 (ipykernel)",
   "language": "python",
   "name": "python3"
  },
  "language_info": {
   "codemirror_mode": {
    "name": "ipython",
    "version": 3
   },
   "file_extension": ".py",
   "mimetype": "text/x-python",
   "name": "python",
   "nbconvert_exporter": "python",
   "pygments_lexer": "ipython3",
   "version": "3.10.8"
  },
  "vscode": {
   "interpreter": {
    "hash": "9b38088da3e359be888523174e890065d1b2ee53500d9de3e1ed30e268c71367"
   }
  }
 },
 "nbformat": 4,
 "nbformat_minor": 5
}
