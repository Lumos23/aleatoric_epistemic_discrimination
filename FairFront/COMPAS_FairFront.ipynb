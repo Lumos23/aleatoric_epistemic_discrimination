{
 "cells": [
  {
   "cell_type": "code",
   "execution_count": 17,
   "id": "9ee42826",
   "metadata": {},
   "outputs": [],
   "source": [
    "from FairFront import FairFront\n",
    "from DataLoader_FairFront import load_data\n",
    "from DiscreteFairFront import *\n",
    "import numpy as np\n",
    "import cvxpy as cp\n",
    "import dccp\n",
    "\n",
    "import sys\n",
    "import pandas as pd\n",
    "import numpy as np\n",
    "\n",
    "import random\n",
    "import pickle\n",
    "import time\n",
    "from tqdm import tqdm\n",
    "from time import localtime, strftime"
   ]
  },
  {
   "cell_type": "code",
   "execution_count": 18,
   "id": "765e1cbc",
   "metadata": {},
   "outputs": [],
   "source": [
    "seed_n = 42\n",
    "random.seed(seed_n)\n",
    "np.random.seed(seed_n)"
   ]
  },
  {
   "cell_type": "code",
   "execution_count": null,
   "id": "5e77f632",
   "metadata": {},
   "outputs": [],
   "source": [
    "# read in data using the DataLoader module\n",
    "df = load_data(name='compas', perturbed= False)  \n",
    "df"
   ]
  },
  {
   "cell_type": "code",
   "execution_count": 20,
   "id": "141f78d6",
   "metadata": {},
   "outputs": [],
   "source": [
    "# read in perturbed data using pickled dataset \n",
    "# df = pd.read_pickle(\"../data/COMPAS/COMPAS_perturbed_maj0.1_min0.1.pkl\")\n",
    "# df"
   ]
  },
  {
   "cell_type": "markdown",
   "id": "26c0d24e",
   "metadata": {},
   "source": [
    "### Approximate with discrete r.v."
   ]
  },
  {
   "cell_type": "code",
   "execution_count": 21,
   "id": "abaade5e",
   "metadata": {},
   "outputs": [],
   "source": [
    "used_columns = df[['age_discrete', 'c_charge_degree', 'gender', 'priors_count',\n",
    "       'stay_discrete', 'race', 'SY'] ]\n",
    "      \n",
    "pmf_dict = {0:{}, 1:{}, 2:{}, 3:{}}\n",
    "\n",
    "def get_type_count(row):\n",
    "    sy = row['SY']\n",
    "    key = (row['age_discrete'],row['c_charge_degree'],row['gender'],row['priors_count'], row['stay_discrete'], row['race'])\n",
    "    if key not in pmf_dict[sy]:\n",
    "        pmf_dict[sy].update({key: 1})\n",
    "    else:\n",
    "        pmf_dict[sy][key] =  pmf_dict[sy][key] + 1\n",
    "    \n",
    "\n",
    "for index, row in used_columns.iterrows():\n",
    "    get_type_count(row)\n",
    "\n",
    "for i in range(4):\n",
    "    total_i = sum(pmf_dict[i].values())\n",
    "    pmf_dict[i] = {key: value / total_i for key, value in pmf_dict[i].items()}\n"
   ]
  },
  {
   "cell_type": "code",
   "execution_count": 22,
   "id": "b98c909a",
   "metadata": {},
   "outputs": [
    {
     "data": {
      "text/plain": [
       "1640"
      ]
     },
     "execution_count": 22,
     "metadata": {},
     "output_type": "execute_result"
    }
   ],
   "source": [
    "# output support as a list \n",
    "support_list = []\n",
    "for i in range(4):\n",
    "    support_list += list(pmf_dict[i].keys())\n",
    "\n",
    "support_X = list(set(support_list)) # support of input features\n",
    "calX = len(support_X) # support size of input features\n",
    "calX\n"
   ]
  },
  {
   "cell_type": "code",
   "execution_count": 23,
   "id": "ffae9cfb",
   "metadata": {},
   "outputs": [
    {
     "data": {
      "text/plain": [
       "(4, 1640)"
      ]
     },
     "execution_count": 23,
     "metadata": {},
     "output_type": "execute_result"
    }
   ],
   "source": [
    "def get_pmf(dictionary, x):\n",
    "    '''\n",
    "    if x is in dictionary pmf_dict[i], then use that value. If not, fill in 0\n",
    "    '''\n",
    "    if x in dictionary:\n",
    "        return dictionary[x]\n",
    "    else:\n",
    "        return 0 \n",
    "\n",
    "# transition matrix from (s,y) to x\n",
    "T_SY_X  = np.vstack([[get_pmf(pmf_dict[0], x) for x in support_X], \\\n",
    "           [get_pmf(pmf_dict[1], x) for x in support_X], \\\n",
    "           [get_pmf(pmf_dict[2], x) for x in support_X], \\\n",
    "           [get_pmf(pmf_dict[3], x) for x in support_X]\n",
    "            ])\n",
    "\n",
    "T_SY_X.shape\n"
   ]
  },
  {
   "cell_type": "markdown",
   "id": "2fc27c95",
   "metadata": {},
   "source": [
    "#### Obtain transition matrix and conditional distribution"
   ]
  },
  {
   "cell_type": "code",
   "execution_count": 24,
   "id": "f5cde78b",
   "metadata": {},
   "outputs": [],
   "source": [
    "A = 2\n",
    "C = 2\n",
    "sensitive_s = 'race'\n",
    "label_y = 'is_recid'\n",
    "# get the mu_s,y values, encoded in matrix mu_SY\n",
    "mu_SY = np.zeros((A, C))\n",
    "mu_SY = np.zeros((2, 2))\n",
    "for index, row in df.iterrows():\n",
    "    s,y = int(row[sensitive_s]), int(row[label_y])\n",
    "    mu_SY[s][y] = mu_SY[s][y] + 1\n",
    "mu_SY = mu_SY/len(df)\n",
    "\n",
    "map_ind_X = dict(zip(range(calX), support_X))\n",
    "map_X_ind = dict(zip(support_X, range(calX)))"
   ]
  },
  {
   "cell_type": "code",
   "execution_count": 25,
   "id": "6d735757",
   "metadata": {},
   "outputs": [],
   "source": [
    "def g_emp(x):\n",
    "    '''\n",
    "    compute g function from the empirical distribution\n",
    "    '''\n",
    "    result_vector = []\n",
    "    ind_x = map_X_ind[x]\n",
    "    for s in range(A):\n",
    "        for y in range(C):\n",
    "            result_vector.append(T_SY_X[s*C + y, ind_x] * mu_SY[s][y])\n",
    "    #normalize\n",
    "    result_vector = result_vector/(sum(result_vector))\n",
    "    return result_vector"
   ]
  },
  {
   "cell_type": "code",
   "execution_count": 26,
   "id": "291b03df",
   "metadata": {},
   "outputs": [],
   "source": [
    "distinf = {\"T\": T_SY_X, \"map\": map_ind_X, \"mu_SY\": mu_SY}"
   ]
  },
  {
   "cell_type": "markdown",
   "id": "de4647da",
   "metadata": {},
   "source": [
    "#### Generate FairFront"
   ]
  },
  {
   "cell_type": "code",
   "execution_count": 27,
   "id": "a9c5ad4a",
   "metadata": {},
   "outputs": [
    {
     "name": "stdout",
     "output_type": "stream",
     "text": [
      "current i: 0.0\n",
      "Time for this iteration: 0.017 mins\n",
      "\n",
      "true_opt_list: [0.7619731112214649]\n",
      "current i: 0.011111111111111112\n",
      "Time for this iteration: 0.017 mins\n",
      "\n",
      "true_opt_list: [0.7619731112214649, 0.7684459292938178]\n",
      "current i: 0.022222222222222223\n",
      "Time for this iteration: 0.017 mins\n",
      "\n",
      "true_opt_list: [0.7619731112214649, 0.7684459292938178, 0.7695894747671452]\n",
      "current i: 0.03333333333333333\n",
      "Time for this iteration: 0.017 mins\n",
      "\n",
      "true_opt_list: [0.7619731112214649, 0.7684459292938178, 0.7695894747671452, 0.7700426484061318]\n",
      "current i: 0.044444444444444446\n",
      "Time for this iteration: 0.017 mins\n",
      "\n",
      "true_opt_list: [0.7619731112214649, 0.7684459292938178, 0.7695894747671452, 0.7700426484061318, 0.7704106284609922]\n",
      "current i: 0.05555555555555556\n",
      "Time for this iteration: 0.017 mins\n",
      "\n",
      "true_opt_list: [0.7619731112214649, 0.7684459292938178, 0.7695894747671452, 0.7700426484061318, 0.7704106284609922, 0.7707584703957764]\n",
      "current i: 0.06666666666666667\n",
      "Time for this iteration: 0.017 mins\n",
      "\n",
      "true_opt_list: [0.7619731112214649, 0.7684459292938178, 0.7695894747671452, 0.7700426484061318, 0.7704106284609922, 0.7707584703957764, 0.7710930041862103]\n",
      "current i: 0.07777777777777778\n",
      "Time for this iteration: 0.017 mins\n",
      "\n",
      "true_opt_list: [0.7619731112214649, 0.7684459292938178, 0.7695894747671452, 0.7700426484061318, 0.7704106284609922, 0.7707584703957764, 0.7710930041862103, 0.7713712130304804]\n",
      "current i: 0.08888888888888889\n",
      "Time for this iteration: 0.017 mins\n",
      "\n",
      "true_opt_list: [0.7619731112214649, 0.7684459292938178, 0.7695894747671452, 0.7700426484061318, 0.7704106284609922, 0.7707584703957764, 0.7710930041862103, 0.7713712130304804, 0.7715043576575572]\n",
      "current i: 0.1\n",
      "Time for this iteration: 0.000 mins\n",
      "\n",
      "true_opt_list: [0.7619731112214649, 0.7684459292938178, 0.7695894747671452, 0.7700426484061318, 0.7704106284609922, 0.7707584703957764, 0.7710930041862103, 0.7713712130304804, 0.7715043576575572, 0.7715043575931407]\n"
     ]
    }
   ],
   "source": [
    "# fairness threshold\n",
    "alpha_SP = 1.0\n",
    "alpha_OAE = 1.0\n",
    "\n",
    "epsilon = []\n",
    "opt_list = []\n",
    "opt_discrete_list = []\n",
    "\n",
    "for i in np.linspace(0,0.1,10):\n",
    "    print(\"current i:\", i)\n",
    "    epsilon.append(i)\n",
    "    start_time = time.localtime()\n",
    "    #FairFront_value = FairFront(A, C, g_emp, sensitive_s = sensitive_s, label_y=label_y, InputDist = True, dist_inf = distinf, alpha_SP = alpha_SP, alpha_EO = i , alpha_OAE = alpha_OAE, max_iterations = 1)\n",
    "\n",
    "    #optimal_value,_,_ = FairFront_value.Algorithm()\n",
    "    #opt_list.append(optimal_value)\n",
    "\n",
    "    FairFront_discrete = DiscreteFairFront(A, C, mu_SY, distinf, alpha_SP = alpha_SP, alpha_EO = i, alpha_OAE = alpha_OAE)\n",
    "    value = FairFront_discrete.FairFront()\n",
    "    opt_discrete_list.append(value)\n",
    "    \n",
    "\n",
    "    print('Time for this iteration: {:4.3f} mins\\n'.format((time.mktime(time.localtime()) - time.mktime(start_time))/60))\n",
    "    print(\"true_opt_list:\", opt_discrete_list)\n",
    "\n",
    "        "
   ]
  },
  {
   "cell_type": "code",
   "execution_count": 28,
   "id": "63a74b8f",
   "metadata": {},
   "outputs": [
    {
     "name": "stdout",
     "output_type": "stream",
     "text": [
      "current i: 0.111\n",
      "Time for this iteration: 0.017 mins\n",
      "\n",
      "true_opt_list: [0.7619731112214649, 0.7684459292938178, 0.7695894747671452, 0.7700426484061318, 0.7704106284609922, 0.7707584703957764, 0.7710930041862103, 0.7713712130304804, 0.7715043576575572, 0.7715043575931407, 0.7715043568850914]\n",
      "current i: 0.1348\n",
      "Time for this iteration: 0.017 mins\n",
      "\n",
      "true_opt_list: [0.7619731112214649, 0.7684459292938178, 0.7695894747671452, 0.7700426484061318, 0.7704106284609922, 0.7707584703957764, 0.7710930041862103, 0.7713712130304804, 0.7715043576575572, 0.7715043575931407, 0.7715043568850914, 0.7715043576321082]\n",
      "current i: 0.15860000000000002\n",
      "Time for this iteration: 0.017 mins\n",
      "\n",
      "true_opt_list: [0.7619731112214649, 0.7684459292938178, 0.7695894747671452, 0.7700426484061318, 0.7704106284609922, 0.7707584703957764, 0.7710930041862103, 0.7713712130304804, 0.7715043576575572, 0.7715043575931407, 0.7715043568850914, 0.7715043576321082, 0.7715043570469583]\n",
      "current i: 0.1824\n",
      "Time for this iteration: 0.017 mins\n",
      "\n",
      "true_opt_list: [0.7619731112214649, 0.7684459292938178, 0.7695894747671452, 0.7700426484061318, 0.7704106284609922, 0.7707584703957764, 0.7710930041862103, 0.7713712130304804, 0.7715043576575572, 0.7715043575931407, 0.7715043568850914, 0.7715043576321082, 0.7715043570469583, 0.7715043576287883]\n",
      "current i: 0.2062\n",
      "Time for this iteration: 0.017 mins\n",
      "\n",
      "true_opt_list: [0.7619731112214649, 0.7684459292938178, 0.7695894747671452, 0.7700426484061318, 0.7704106284609922, 0.7707584703957764, 0.7710930041862103, 0.7713712130304804, 0.7715043576575572, 0.7715043575931407, 0.7715043568850914, 0.7715043576321082, 0.7715043570469583, 0.7715043576287883, 0.7715043545696117]\n",
      "current i: 0.23\n",
      "Time for this iteration: 0.017 mins\n",
      "\n",
      "true_opt_list: [0.7619731112214649, 0.7684459292938178, 0.7695894747671452, 0.7700426484061318, 0.7704106284609922, 0.7707584703957764, 0.7710930041862103, 0.7713712130304804, 0.7715043576575572, 0.7715043575931407, 0.7715043568850914, 0.7715043576321082, 0.7715043570469583, 0.7715043576287883, 0.7715043545696117, 0.7715043557388052]\n"
     ]
    }
   ],
   "source": [
    "# fairness threshold\n",
    "alpha_SP = 1.0\n",
    "alpha_OAE = 1.0\n",
    "\n",
    "for i in np.linspace(0.111,0.23,6):\n",
    "    print(\"current i:\", i)\n",
    "    epsilon.append(i)\n",
    "    start_time = time.localtime()\n",
    "    #FairFront_value = FairFront(A, C, g_emp, sensitive_s = sensitive_s, label_y=label_y, InputDist = True, dist_inf = distinf, alpha_SP = alpha_SP, alpha_EO = i , alpha_OAE = alpha_OAE, max_iterations = 1)\n",
    "\n",
    "    #optimal_value,_,_ = FairFront_value.Algorithm()\n",
    "    #opt_list.append(optimal_value)\n",
    "\n",
    "    FairFront_discrete = DiscreteFairFront(A, C, mu_SY, distinf, alpha_SP = alpha_SP, alpha_EO = i, alpha_OAE = alpha_OAE)\n",
    "    value = FairFront_discrete.FairFront()\n",
    "    opt_discrete_list.append(value)\n",
    "    \n",
    "    print('Time for this iteration: {:4.3f} mins\\n'.format((time.mktime(time.localtime()) - time.mktime(start_time))/60))\n",
    "    print(\"true_opt_list:\", opt_discrete_list)\n",
    "\n",
    "        "
   ]
  },
  {
   "cell_type": "code",
   "execution_count": 29,
   "id": "bcc56e64",
   "metadata": {},
   "outputs": [
    {
     "name": "stdout",
     "output_type": "stream",
     "text": [
      "current i: 0.003703703703703704\n",
      "Time for this iteration: 0.017 mins\n",
      "\n",
      "true_opt_list: [0.7619731112214649, 0.7684459292938178, 0.7695894747671452, 0.7700426484061318, 0.7704106284609922, 0.7707584703957764, 0.7710930041862103, 0.7713712130304804, 0.7715043576575572, 0.7715043575931407, 0.7715043568850914, 0.7715043576321082, 0.7715043570469583, 0.7715043576287883, 0.7715043545696117, 0.7715043557388052, 0.7642010876045531]\n",
      "current i: 0.007407407407407408\n",
      "Time for this iteration: 0.017 mins\n",
      "\n",
      "true_opt_list: [0.7619731112214649, 0.7684459292938178, 0.7695894747671452, 0.7700426484061318, 0.7704106284609922, 0.7707584703957764, 0.7710930041862103, 0.7713712130304804, 0.7715043576575572, 0.7715043575931407, 0.7715043568850914, 0.7715043576321082, 0.7715043570469583, 0.7715043576287883, 0.7715043545696117, 0.7715043557388052, 0.7642010876045531, 0.7664290623264307]\n",
      "current i: 0.016666666666666666\n",
      "Time for this iteration: 0.017 mins\n",
      "\n",
      "true_opt_list: [0.7619731112214649, 0.7684459292938178, 0.7695894747671452, 0.7700426484061318, 0.7704106284609922, 0.7707584703957764, 0.7710930041862103, 0.7713712130304804, 0.7715043576575572, 0.7715043575931407, 0.7715043568850914, 0.7715043576321082, 0.7715043570469583, 0.7715043576287883, 0.7715043545696117, 0.7715043557388052, 0.7642010876045531, 0.7664290623264307, 0.7693023591753353]\n"
     ]
    }
   ],
   "source": [
    "for i in [0.003703703703703704, 0.003703703703703704*2, 0.016666666666666666]:\n",
    "    print(\"current i:\", i)\n",
    "    epsilon.append(i)\n",
    "    start_time = time.localtime()\n",
    "    #FairFront_value = FairFront(A, C, g_emp, sensitive_s = sensitive_s, label_y=label_y, InputDist = True, dist_inf = distinf, alpha_SP = alpha_SP, alpha_EO = i , alpha_OAE = alpha_OAE, max_iterations = 1)\n",
    "\n",
    "    #optimal_value,_,_ = FairFront_value.Algorithm()\n",
    "    #opt_list.append(optimal_value)\n",
    "\n",
    "    FairFront_discrete = DiscreteFairFront(A, C, mu_SY, distinf, alpha_SP = alpha_SP, alpha_EO = i, alpha_OAE = alpha_OAE)\n",
    "    value = FairFront_discrete.FairFront()\n",
    "    opt_discrete_list.append(value)\n",
    "    \n",
    "    print('Time for this iteration: {:4.3f} mins\\n'.format((time.mktime(time.localtime()) - time.mktime(start_time))/60))\n",
    "    print(\"true_opt_list:\", opt_discrete_list)\n",
    "\n",
    "        "
   ]
  },
  {
   "cell_type": "code",
   "execution_count": 30,
   "id": "932303f9",
   "metadata": {},
   "outputs": [
    {
     "data": {
      "text/plain": [
       "[<matplotlib.lines.Line2D at 0x294a94310>]"
      ]
     },
     "execution_count": 30,
     "metadata": {},
     "output_type": "execute_result"
    },
    {
     "data": {
      "image/png": "[encoded data removed]",
      "text/plain": [
       "<Figure size 640x480 with 1 Axes>"
      ]
     },
     "metadata": {},
     "output_type": "display_data"
    }
   ],
   "source": [
    "import sys\n",
    "import pandas as pd\n",
    "import numpy as np\n",
    "import seaborn as sns\n",
    "import matplotlib.pyplot as plt\n",
    "import matplotlib.patches as mpatches\n",
    "import pickle\n",
    "sns.set(style=\"whitegrid\")\n",
    "\n",
    "plt.plot(epsilon, opt_discrete_list, 'o')"
   ]
  }
 ],
 "metadata": {
  "kernelspec": {
   "display_name": "Python 3 (ipykernel)",
   "language": "python",
   "name": "python3"
  },
  "language_info": {
   "codemirror_mode": {
    "name": "ipython",
    "version": 3
   },
   "file_extension": ".py",
   "mimetype": "text/x-python",
   "name": "python",
   "nbconvert_exporter": "python",
   "pygments_lexer": "ipython3",
   "version": "3.10.8"
  },
  "vscode": {
   "interpreter": {
    "hash": "9b38088da3e359be888523174e890065d1b2ee53500d9de3e1ed30e268c71367"
   }
  }
 },
 "nbformat": 4,
 "nbformat_minor": 5
}
