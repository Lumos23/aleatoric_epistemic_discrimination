{
 "cells": [
  {
   "cell_type": "code",
   "execution_count": 1,
   "id": "9ee42826",
   "metadata": {},
   "outputs": [],
   "source": [
    "from FairFront import FairFront\n",
    "from DataLoader_FairFront import load_data\n",
    "from DiscreteFairFront import *\n",
    "import numpy as np\n",
    "import cvxpy as cp\n",
    "import dccp\n",
    "\n",
    "import sys\n",
    "import pandas as pd\n",
    "import numpy as np\n",
    "\n",
    "import random\n",
    "import pickle\n",
    "import time\n",
    "from tqdm import tqdm\n",
    "from time import localtime, strftime"
   ]
  },
  {
   "cell_type": "code",
   "execution_count": 2,
   "id": "765e1cbc",
   "metadata": {},
   "outputs": [],
   "source": [
    "seed_n = 42\n",
    "random.seed(seed_n)\n",
    "np.random.seed(seed_n)"
   ]
  },
  {
   "cell_type": "code",
   "execution_count": 3,
   "id": "00c6142c",
   "metadata": {},
   "outputs": [
    {
     "name": "stderr",
     "output_type": "stream",
     "text": [
      "/Users/luxihe/Documents/GitHub/aleatoric_epistemic_discrimination/FairFront/DataLoader_FairFront.py:36: FutureWarning: The frame.append method is deprecated and will be removed from pandas in a future version. Use pandas.concat instead.\n",
      "  df = df.append(dfTest)\n",
      "/Users/luxihe/Documents/GitHub/aleatoric_epistemic_discrimination/FairFront/DataLoader_FairFront.py:48: FutureWarning: In a future version, `df.iloc[:, i] = newvals` will attempt to set the values inplace instead of always setting a new array. To retain the old behavior, use either `df[df.columns[i]] = newvals` or, if columns are non-unique, `df.isetitem(i, newvals)`\n",
      "  df.loc[:,'race'] = df['race'].apply(lambda x: 1 if x=='White' else 0)\n",
      "/Users/luxihe/Documents/GitHub/aleatoric_epistemic_discrimination/FairFront/DataLoader_FairFront.py:52: FutureWarning: In a future version, `df.iloc[:, i] = newvals` will attempt to set the values inplace instead of always setting a new array. To retain the old behavior, use either `df[df.columns[i]] = newvals` or, if columns are non-unique, `df.isetitem(i, newvals)`\n",
      "  df.loc[:,'gender'] = df['gender'].apply(lambda x: 1 if x=='Male' else 0)\n",
      "/Users/luxihe/Documents/GitHub/aleatoric_epistemic_discrimination/FairFront/DataLoader_FairFront.py:56: FutureWarning: In a future version, `df.iloc[:, i] = newvals` will attempt to set the values inplace instead of always setting a new array. To retain the old behavior, use either `df[df.columns[i]] = newvals` or, if columns are non-unique, `df.isetitem(i, newvals)`\n",
      "  df.loc[:,'income'] = df['income'].apply(lambda x: 1 if x[0]=='>' else 0)\n"
     ]
    }
   ],
   "source": [
    "# read in data using the DataLoader module\n",
    "df = load_data(name='adult', perturbed = False)   \n",
    "# df = load_data(name='adult', perturbed = False, perturb = True, alpha = [0.1,0.5]) \n",
    "# pickle.save(df)"
   ]
  },
  {
   "cell_type": "markdown",
   "id": "26c0d24e",
   "metadata": {},
   "source": [
    "### Approximate with discrete r.v."
   ]
  },
  {
   "cell_type": "code",
   "execution_count": 4,
   "id": "1b23bdc1",
   "metadata": {},
   "outputs": [],
   "source": [
    "# select useful columns for computing FairFront\n",
    "used_columns = df[['age_discrete', 'edu_discrete',\n",
    "       'hours_discrete', 'marital-status_Married-civ-spouse' , 'relationship_Husband','relationship_Wife', 'gender','SY',]]\n",
    "\n"
   ]
  },
  {
   "cell_type": "code",
   "execution_count": 5,
   "id": "abaade5e",
   "metadata": {},
   "outputs": [],
   "source": [
    "pmf_dict = {0:{}, 1:{}, 2:{}, 3:{}}\n",
    "\n",
    "def get_type_count(row):\n",
    "    sy = row['SY']\n",
    "    key = (row['age_discrete'],row['edu_discrete'],row['hours_discrete'],row['marital-status_Married-civ-spouse'], row['relationship_Husband'], row['relationship_Wife'], row['gender'])\n",
    "    if key not in pmf_dict[sy]:\n",
    "        pmf_dict[sy].update({key: 1})\n",
    "    else:\n",
    "        pmf_dict[sy][key] =  pmf_dict[sy][key] + 1\n",
    "    \n",
    "\n",
    "for index, row in used_columns.iterrows():\n",
    "    get_type_count(row)\n",
    "\n",
    "for i in range(4):\n",
    "    total_i = sum(pmf_dict[i].values())\n",
    "    pmf_dict[i] = {key: value / total_i for key, value in pmf_dict[i].items()}\n"
   ]
  },
  {
   "cell_type": "code",
   "execution_count": 6,
   "id": "b98c909a",
   "metadata": {},
   "outputs": [
    {
     "data": {
      "text/plain": [
       "4849"
      ]
     },
     "execution_count": 6,
     "metadata": {},
     "output_type": "execute_result"
    }
   ],
   "source": [
    "# output support as a list \n",
    "support_list = []\n",
    "for i in range(4):\n",
    "    support_list += list(pmf_dict[i].keys())\n",
    "\n",
    "support_X = list(set(support_list)) # support of input features\n",
    "calX = len(support_X)# support size of input features\n",
    "calX\n"
   ]
  },
  {
   "cell_type": "code",
   "execution_count": 7,
   "id": "ffae9cfb",
   "metadata": {},
   "outputs": [
    {
     "data": {
      "text/plain": [
       "(4, 4849)"
      ]
     },
     "execution_count": 7,
     "metadata": {},
     "output_type": "execute_result"
    }
   ],
   "source": [
    "def get_pmf(dictionary, x):\n",
    "    '''\n",
    "    if x is in dictionary pmf_dict[i], then use that value. If not, fill in 0\n",
    "    '''\n",
    "    if x in dictionary:\n",
    "        return dictionary[x]\n",
    "    else:\n",
    "        return 0 \n",
    "\n",
    "# transition matrix from (s,y) to x\n",
    "T_SY_X  = np.vstack([[get_pmf(pmf_dict[0], x) for x in support_X], \\\n",
    "           [get_pmf(pmf_dict[1], x) for x in support_X], \\\n",
    "           [get_pmf(pmf_dict[2], x) for x in support_X], \\\n",
    "           [get_pmf(pmf_dict[3], x) for x in support_X]\n",
    "            ])\n",
    "\n",
    "T_SY_X.shape\n",
    "\n",
    "# can then use it to generate approximate for True FairFront"
   ]
  },
  {
   "cell_type": "markdown",
   "id": "9ba5dce8",
   "metadata": {},
   "source": [
    "#### Obtain transition matrix and conditional distribution"
   ]
  },
  {
   "cell_type": "code",
   "execution_count": 8,
   "id": "f5cde78b",
   "metadata": {},
   "outputs": [],
   "source": [
    "A = 2\n",
    "C = 2\n",
    "sensitive_s = 'gender'\n",
    "label_y = 'income'\n",
    "# get the mu_s,y values, encoded in matrix mu_SY\n",
    "mu_SY = np.zeros((A, C))\n",
    "mu_SY = np.zeros((2, 2))\n",
    "for index, row in df.iterrows():\n",
    "    s,y = int(row[sensitive_s]), int(row[label_y])\n",
    "    mu_SY[s][y] = mu_SY[s][y] + 1\n",
    "mu_SY = mu_SY/len(df)\n",
    "\n",
    "map_ind_X = dict(zip(range(calX), support_X))\n",
    "map_X_ind = dict(zip(support_X, range(calX)))"
   ]
  },
  {
   "cell_type": "code",
   "execution_count": 9,
   "id": "6d735757",
   "metadata": {},
   "outputs": [],
   "source": [
    "def g_emp(x):\n",
    "    '''\n",
    "    compute g function from the empirical distribution\n",
    "    '''\n",
    "    result_vector = []\n",
    "    ind_x = map_X_ind[x]\n",
    "    for s in range(A):\n",
    "        for y in range(C):\n",
    "            result_vector.append(T_SY_X[s*C + y, ind_x] * mu_SY[s][y])\n",
    "    #normalize\n",
    "    result_vector = result_vector/(sum(result_vector))\n",
    "    return result_vector"
   ]
  },
  {
   "cell_type": "code",
   "execution_count": 10,
   "id": "291b03df",
   "metadata": {},
   "outputs": [],
   "source": [
    "distinf = {\"T\": T_SY_X, \"map\": map_ind_X, \"mu_SY\": mu_SY}"
   ]
  },
  {
   "cell_type": "markdown",
   "id": "83c213d7",
   "metadata": {},
   "source": [
    "#### Generate FairFront"
   ]
  },
  {
   "cell_type": "code",
   "execution_count": 11,
   "id": "3b4f59c7",
   "metadata": {},
   "outputs": [],
   "source": [
    "# fairness threshold\n",
    "alpha_SP = 1.0\n",
    "alpha_OAE = 1.0"
   ]
  },
  {
   "cell_type": "code",
   "execution_count": 12,
   "id": "a9c5ad4a",
   "metadata": {},
   "outputs": [
    {
     "name": "stdout",
     "output_type": "stream",
     "text": [
      "current i: 0.0\n",
      "Time for this iteration: 6.317 mins\n",
      "\n",
      "opt_list: [0.8278810645378111]\n",
      "current i: 0.006666666666666666\n",
      "Time for this iteration: 6.383 mins\n",
      "\n",
      "opt_list: [0.8278810645378111, 0.8300821406247829]\n",
      "current i: 0.013333333333333332\n",
      "Time for this iteration: 6.467 mins\n",
      "\n",
      "opt_list: [0.8278810645378111, 0.8300821406247829, 0.8322832171840927]\n",
      "current i: 0.019999999999999997\n",
      "Time for this iteration: 6.667 mins\n",
      "\n",
      "opt_list: [0.8278810645378111, 0.8300821406247829, 0.8322832171840927, 0.8344842909267509]\n",
      "current i: 0.026666666666666665\n",
      "Time for this iteration: 7.017 mins\n",
      "\n",
      "opt_list: [0.8278810645378111, 0.8300821406247829, 0.8322832171840927, 0.8344842909267509, 0.8366853650200555]\n",
      "current i: 0.03333333333333333\n",
      "Time for this iteration: 7.267 mins\n",
      "\n",
      "opt_list: [0.8278810645378111, 0.8300821406247829, 0.8322832171840927, 0.8344842909267509, 0.8366853650200555, 0.8388864400667974]\n",
      "current i: 0.039999999999999994\n",
      "Time for this iteration: 7.283 mins\n",
      "\n",
      "opt_list: [0.8278810645378111, 0.8300821406247829, 0.8322832171840927, 0.8344842909267509, 0.8366853650200555, 0.8388864400667974, 0.8410875164428934]\n",
      "current i: 0.04666666666666666\n",
      "Time for this iteration: 7.017 mins\n",
      "\n",
      "opt_list: [0.8278810645378111, 0.8300821406247829, 0.8322832171840927, 0.8344842909267509, 0.8366853650200555, 0.8388864400667974, 0.8410875164428934, 0.8432834014964895]\n",
      "current i: 0.05333333333333333\n"
     ]
    },
    {
     "name": "stderr",
     "output_type": "stream",
     "text": [
      "/Users/luxihe/miniforge3/lib/python3.10/site-packages/cvxpy/problems/problem.py:1337: UserWarning: Solution may be inaccurate. Try another solver, adjusting the solver settings, or solve with verbose=True for more information.\n",
      "  warnings.warn(\n"
     ]
    },
    {
     "name": "stdout",
     "output_type": "stream",
     "text": [
      "Time for this iteration: 7.233 mins\n",
      "\n",
      "opt_list: [0.8278810645378111, 0.8300821406247829, 0.8322832171840927, 0.8344842909267509, 0.8366853650200555, 0.8388864400667974, 0.8410875164428934, 0.8432834014964895, 0.8448077852367369]\n",
      "current i: 0.06\n",
      "Time for this iteration: 6.983 mins\n",
      "\n",
      "opt_list: [0.8278810645378111, 0.8300821406247829, 0.8322832171840927, 0.8344842909267509, 0.8366853650200555, 0.8388864400667974, 0.8410875164428934, 0.8432834014964895, 0.8448077852367369, 0.8457348062202513]\n"
     ]
    }
   ],
   "source": [
    "# the sharp curve part\n",
    "\n",
    "epsilon = []\n",
    "opt_list = [] # List of FairFront values\n",
    "opt_discrete_list = []\n",
    "\n",
    "for i in np.linspace(0,0.06,10):\n",
    "    print(\"current i:\", i)\n",
    "    epsilon.append(i)\n",
    "    start_time = time.localtime()\n",
    "    FairFront_value = FairFront(A, C, g_emp,sensitive_s = sensitive_s, label_y=label_y,InputDist = True, dist_inf = distinf, alpha_SP = alpha_SP, alpha_EO = i , alpha_OAE = alpha_OAE, max_iterations = 20)\n",
    "\n",
    "    optimal_value,_,_ = FairFront_value.Algorithm()\n",
    "    opt_list.append(optimal_value)\n",
    "    \n",
    "    \n",
    "    # FairFront_discrete = DiscreteFairFront(A, C, mu_SY, distinf, alpha_SP = alpha_SP, alpha_EO = i, alpha_OAE = alpha_OAE)\n",
    "    # value = FairFront_discrete.FairFront()\n",
    "\n",
    "    # opt_discrete_list.append(value)\n",
    "    \n",
    "    \n",
    "    print('Time for this iteration: {:4.3f} mins\\n'.format((time.mktime(time.localtime()) - time.mktime(start_time))/60))\n",
    "    print(\"opt_list:\", opt_list)"
   ]
  },
  {
   "cell_type": "code",
   "execution_count": 13,
   "id": "3dfda842",
   "metadata": {},
   "outputs": [
    {
     "name": "stdout",
     "output_type": "stream",
     "text": [
      "current i: 0.07\n",
      "Time for this iteration: 7.233 mins\n",
      "\n",
      "opt_list: [0.8278810645378111, 0.8300821406247829, 0.8322832171840927, 0.8344842909267509, 0.8366853650200555, 0.8388864400667974, 0.8410875164428934, 0.8432834014964895, 0.8448077852367369, 0.8457348062202513, 0.8463685033589747]\n",
      "current i: 0.09\n",
      "Time for this iteration: 7.000 mins\n",
      "\n",
      "opt_list: [0.8278810645378111, 0.8300821406247829, 0.8322832171840927, 0.8344842909267509, 0.8366853650200555, 0.8388864400667974, 0.8410875164428934, 0.8432834014964895, 0.8448077852367369, 0.8457348062202513, 0.8463685033589747, 0.8464486409948608]\n",
      "current i: 0.11\n",
      "Time for this iteration: 7.900 mins\n",
      "\n",
      "opt_list: [0.8278810645378111, 0.8300821406247829, 0.8322832171840927, 0.8344842909267509, 0.8366853650200555, 0.8388864400667974, 0.8410875164428934, 0.8432834014964895, 0.8448077852367369, 0.8457348062202513, 0.8463685033589747, 0.8464486409948608, 0.8464486405169865]\n",
      "current i: 0.13\n",
      "Time for this iteration: 8.517 mins\n",
      "\n",
      "opt_list: [0.8278810645378111, 0.8300821406247829, 0.8322832171840927, 0.8344842909267509, 0.8366853650200555, 0.8388864400667974, 0.8410875164428934, 0.8432834014964895, 0.8448077852367369, 0.8457348062202513, 0.8463685033589747, 0.8464486409948608, 0.8464486405169865, 0.8464486405239137]\n",
      "current i: 0.15\n",
      "Time for this iteration: 7.967 mins\n",
      "\n",
      "opt_list: [0.8278810645378111, 0.8300821406247829, 0.8322832171840927, 0.8344842909267509, 0.8366853650200555, 0.8388864400667974, 0.8410875164428934, 0.8432834014964895, 0.8448077852367369, 0.8457348062202513, 0.8463685033589747, 0.8464486409948608, 0.8464486405169865, 0.8464486405239137, 0.8464486417064074]\n"
     ]
    }
   ],
   "source": [
    "# the flat curve part\n",
    "for i in np.linspace(0.07, 0.15, 5):\n",
    "    print(\"current i:\", i)\n",
    "    epsilon.append(i)\n",
    "    start_time = time.localtime()\n",
    "    FairFront_value = FairFront(A, C, g_emp,sensitive_s = sensitive_s, label_y=label_y,InputDist = True, dist_inf = distinf, alpha_SP = alpha_SP, alpha_EO = i , alpha_OAE = alpha_OAE, max_iterations = 20)\n",
    "\n",
    "    optimal_value,_,_ = FairFront_value.Algorithm()\n",
    "    opt_list.append(optimal_value)\n",
    "\n",
    "    # FairFront_discrete = DiscreteFairFront(A, C, mu_SY, distinf, alpha_SP = alpha_SP, alpha_EO = i, alpha_OAE = alpha_OAE)\n",
    "    # value = FairFront_discrete.FairFront()\n",
    "\n",
    "    # opt_discrete_list.append(value)\n",
    "    \n",
    "    \n",
    "    print('Time for this iteration: {:4.3f} mins\\n'.format((time.mktime(time.localtime()) - time.mktime(start_time))/60))\n",
    "    print(\"opt_list:\", opt_list)\n",
    "\n",
    "        "
   ]
  },
  {
   "cell_type": "code",
   "execution_count": 14,
   "id": "8ce7ecab",
   "metadata": {},
   "outputs": [
    {
     "data": {
      "text/plain": [
       "[<matplotlib.lines.Line2D at 0x13fd604f0>]"
      ]
     },
     "execution_count": 14,
     "metadata": {},
     "output_type": "execute_result"
    },
    {
     "data": {
      "image/png": "[encoded data removed]",
      "text/plain": [
       "<Figure size 640x480 with 1 Axes>"
      ]
     },
     "metadata": {},
     "output_type": "display_data"
    }
   ],
   "source": [
    "import sys\n",
    "import pandas as pd\n",
    "import numpy as np\n",
    "import seaborn as sns\n",
    "import matplotlib.pyplot as plt\n",
    "import matplotlib.patches as mpatches\n",
    "import pickle\n",
    "sns.set(style=\"whitegrid\")\n",
    "\n",
    "plt.plot(epsilon, opt_list, 'o')"
   ]
  }
 ],
 "metadata": {
  "kernelspec": {
   "display_name": "Python 3 (ipykernel)",
   "language": "python",
   "name": "python3"
  },
  "language_info": {
   "codemirror_mode": {
    "name": "ipython",
    "version": 3
   },
   "file_extension": ".py",
   "mimetype": "text/x-python",
   "name": "python",
   "nbconvert_exporter": "python",
   "pygments_lexer": "ipython3",
   "version": "3.10.8"
  },
  "vscode": {
   "interpreter": {
    "hash": "9b38088da3e359be888523174e890065d1b2ee53500d9de3e1ed30e268c71367"
   }
  }
 },
 "nbformat": 4,
 "nbformat_minor": 5
}
